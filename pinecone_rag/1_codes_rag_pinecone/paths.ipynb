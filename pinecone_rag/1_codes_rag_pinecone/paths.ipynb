{
 "cells": [
  {
   "cell_type": "code",
   "execution_count": null,
   "id": "d3db8027",
   "metadata": {},
   "outputs": [],
   "source": [
    "import os \n",
    "from pathlib import Path"
   ]
  },
  {
   "cell_type": "code",
   "execution_count": null,
   "id": "d8295c22",
   "metadata": {},
   "outputs": [],
   "source": [
    "print(\"download paths\")\n",
    "PATH_ENV = os.path.join(BASE_DIR,r\".env\")\n",
    "TOKENS_THESIS = os.path.join(BASE_DIR,r\"2_data_names_spaces\\investigations\\tokens\\tokens_thesis.json\")\n",
    "FILE_THESIS = os.path.join(BASE_DIR,r\"2_data_names_spaces\\investigations\\landing\\Constructing a language for testing RL.pdf\")\n"
   ]
  }
 ],
 "metadata": {
  "kernelspec": {
   "display_name": "env",
   "language": "python",
   "name": "python3"
  },
  "language_info": {
   "codemirror_mode": {
    "name": "ipython",
    "version": 3
   },
   "file_extension": ".py",
   "mimetype": "text/x-python",
   "name": "python",
   "nbconvert_exporter": "python",
   "pygments_lexer": "ipython3",
   "version": "3.12.3"
  }
 },
 "nbformat": 4,
 "nbformat_minor": 5
}

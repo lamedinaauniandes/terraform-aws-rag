{
 "cells": [
  {
   "cell_type": "code",
   "execution_count": 1,
   "id": "9bf058b8",
   "metadata": {},
   "outputs": [],
   "source": [
    "import os\n",
    "from pathlib import Path\n",
    "import json\n",
    "from dotenv import load_dotenv\n",
    "from pinecone import Pinecone,ServerlessSpec\n",
    "from pypdf import PdfReader\n",
    "from langchain.text_splitter import(\n",
    "    RecursiveCharacterTextSplitter,\n",
    "    SentenceTransformersTokenTextSplitter\n",
    ")\n",
    "import re\n"
   ]
  },
  {
   "cell_type": "code",
   "execution_count": 7,
   "id": "a817f7a9",
   "metadata": {},
   "outputs": [],
   "source": [
    "BASE_DIR = Path(os.getcwd()).parent.parent"
   ]
  },
  {
   "cell_type": "code",
   "execution_count": 8,
   "id": "31d56305",
   "metadata": {},
   "outputs": [
    {
     "name": "stdout",
     "output_type": "stream",
     "text": [
      "download paths\n",
      "cleaner functions executed\n"
     ]
    }
   ],
   "source": [
    "%run ../paths.ipynb\n",
    "%run ./cleaner_functions.ipynb"
   ]
  },
  {
   "cell_type": "code",
   "execution_count": 11,
   "id": "5d6b9d76",
   "metadata": {},
   "outputs": [],
   "source": [
    "tokens_file= open(TOKENS_THESIS,\"r\",encoding=\"utf-8\")\n",
    "tokens_json = json.load(tokens_file)"
   ]
  },
  {
   "cell_type": "code",
   "execution_count": 12,
   "id": "542d5261",
   "metadata": {},
   "outputs": [],
   "source": [
    "reader_thesis = PdfReader(FILE_THESIS)"
   ]
  },
  {
   "cell_type": "code",
   "execution_count": 18,
   "id": "ada467ff",
   "metadata": {},
   "outputs": [],
   "source": [
    "def tokenizer_1(reader_pdf: PdfReader,token_json:dict,description:str) -> dict:\n",
    "    pdf_texts = [p.extract_text().strip() for p in reader_pdf.pages]\n",
    "    character_splitter = RecursiveCharacterTextSplitter(\n",
    "        separators = [\"\\n\\n\",\"\\n\",\". \", \" \", \"\"],\n",
    "        chunk_size = 1000,\n",
    "        chunk_overlap=0\n",
    "    )\n",
    "\n",
    "    character_split_texts = character_splitter.split_text(\n",
    "        \"\\n\\n\".join(pdf_texts)\n",
    "    )\n",
    "\n",
    "    token_json[\"first_tokenization\"] = { \n",
    "        \"values\" : character_split_texts, \n",
    "        \"description\":description\n",
    "    }\n",
    "\n",
    "    token_json['first_tokenization']['values'] = [strip_control_chars(text)  for text in token_json['first_tokenization']['values']]\n",
    "    return token_json\n",
    "\n",
    "\n",
    "tokens = tokenizer_1(\n",
    "    reader_pdf=reader_thesis,\n",
    "    token_json=tokens_json,\n",
    "    description=\"tokens with recursive tokenization, without cleaning or another technique\"\n",
    ")\n",
    "\n"
   ]
  },
  {
   "cell_type": "code",
   "execution_count": 19,
   "id": "99830930",
   "metadata": {},
   "outputs": [],
   "source": [
    "file = open(TOKENS_THESIS,'w',encoding=\"utf-8\")\n",
    "json.dump(tokens,file,indent=4)\n"
   ]
  }
 ],
 "metadata": {
  "kernelspec": {
   "display_name": "env",
   "language": "python",
   "name": "python3"
  },
  "language_info": {
   "codemirror_mode": {
    "name": "ipython",
    "version": 3
   },
   "file_extension": ".py",
   "mimetype": "text/x-python",
   "name": "python",
   "nbconvert_exporter": "python",
   "pygments_lexer": "ipython3",
   "version": "3.12.3"
  }
 },
 "nbformat": 4,
 "nbformat_minor": 5
}

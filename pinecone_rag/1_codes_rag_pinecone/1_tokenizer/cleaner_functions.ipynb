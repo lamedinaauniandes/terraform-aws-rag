{
 "cells": [
  {
   "cell_type": "code",
   "execution_count": null,
   "id": "55584a5d",
   "metadata": {},
   "outputs": [],
   "source": [
    "print(\"cleaner functions executed\")"
   ]
  },
  {
   "cell_type": "code",
   "execution_count": null,
   "id": "692c78f2",
   "metadata": {},
   "outputs": [],
   "source": [
    "import re"
   ]
  },
  {
   "cell_type": "code",
   "execution_count": null,
   "id": "2fbb2428",
   "metadata": {},
   "outputs": [],
   "source": [
    "CONTROL_CHARS = ''.join(map(chr, list(range(0,32)) + [127]))\n",
    "CONTROL_RE = re.compile(f\"[{re.escape(CONTROL_CHARS.replace('\\\\n','').replace('\\\\t',''))}]\")\n",
    "\n",
    "def strip_control_chars(text:str) -> str:\n",
    "    return CONTROL_RE.sub(\"\", text)\n",
    "\n"
   ]
  },
  {
   "cell_type": "code",
   "execution_count": null,
   "id": "013c8581",
   "metadata": {},
   "outputs": [],
   "source": []
  },
  {
   "cell_type": "code",
   "execution_count": null,
   "id": "353ceca8",
   "metadata": {},
   "outputs": [],
   "source": []
  },
  {
   "cell_type": "code",
   "execution_count": null,
   "id": "c120bfdb",
   "metadata": {},
   "outputs": [],
   "source": []
  }
 ],
 "metadata": {
  "language_info": {
   "name": "python"
  }
 },
 "nbformat": 4,
 "nbformat_minor": 5
}

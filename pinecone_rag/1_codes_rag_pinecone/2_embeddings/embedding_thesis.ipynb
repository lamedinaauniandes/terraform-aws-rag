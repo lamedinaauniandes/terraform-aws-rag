{
 "cells": [
  {
   "cell_type": "code",
   "execution_count": null,
   "id": "03f53c1c",
   "metadata": {},
   "outputs": [],
   "source": [
    "import os\n",
    "from pathlib import Path\n",
    "from dotenv import load_dotenv\n",
    "from pinecone import Pinecone,ServerlessSpec\n",
    "from pypdf import PdfReader"
   ]
  },
  {
   "cell_type": "code",
   "execution_count": null,
   "metadata": {},
   "outputs": [],
   "source": [
    "BASE_DIR = Path(os.getcwd()).parent.parent\n",
    "PATH_ENV = os.path.join(BASE_DIR,\".env\")\n",
    "load_dotenv(override=True,dotenv_path=PATH_ENV)"
   ]
  },
  {
   "cell_type": "code",
   "execution_count": null,
   "metadata": {},
   "outputs": [],
   "source": []
  }
 ],
 "metadata": {
  "language_info": {
   "name": "python"
  }
 },
 "nbformat": 4,
 "nbformat_minor": 5
}

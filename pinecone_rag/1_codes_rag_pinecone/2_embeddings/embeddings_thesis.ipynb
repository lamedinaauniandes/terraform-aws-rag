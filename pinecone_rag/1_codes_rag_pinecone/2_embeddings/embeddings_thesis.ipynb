{
 "cells": [
  {
   "cell_type": "code",
   "execution_count": 58,
   "id": "8b6f9df5",
   "metadata": {},
   "outputs": [],
   "source": [
    "import os \n",
    "import json\n",
    "import torch\n",
    "from pathlib import Path\n",
    "from sentence_transformers import SentenceTransformer\n",
    "from dotenv import load_dotenv\n",
    "from pinecone import Pinecone,ServerlessSpec\n",
    "from typing import Callable,List"
   ]
  },
  {
   "cell_type": "code",
   "execution_count": 3,
   "id": "976a99b9",
   "metadata": {},
   "outputs": [
    {
     "name": "stdout",
     "output_type": "stream",
     "text": [
      "download paths\n"
     ]
    }
   ],
   "source": [
    "BASE_DIR = Path(os.getcwd()).parent.parent\n",
    "%run ../paths.ipynb"
   ]
  },
  {
   "cell_type": "code",
   "execution_count": 25,
   "id": "7b88c1d8",
   "metadata": {},
   "outputs": [],
   "source": [
    "load_dotenv(override=True,dotenv_path=PATH_ENV)\n",
    "openai_key_pinecone = os.getenv(\"token_pinecone\")\n",
    "pc = Pinecone(api_key = openai_key_pinecone)"
   ]
  },
  {
   "cell_type": "code",
   "execution_count": null,
   "id": "484daffc",
   "metadata": {},
   "outputs": [
    {
     "data": {
      "text/plain": [
       "<pinecone.db_data.index.Index at 0x1513a2035f0>"
      ]
     },
     "execution_count": 59,
     "metadata": {},
     "output_type": "execute_result"
    }
   ],
   "source": [
    "def create_embeddings(tokens,model=\"all-MiniLM-L6-v2\"): \n",
    "    \"\"\"\n",
    "    Generate embeddings whit hugginface \n",
    "    \"\"\"\n",
    "    ### creating data for pinecone \n",
    "    model = SentenceTransformer(model,device='cpu')\n",
    "    embeddings = list(map(lambda x: model.encode(x).tolist(),tokens))\n",
    "    embddings_list = [(str(i),embeddings[i],{\"text\":tokens[i]}) for i in range(len(embeddings))]    \n",
    "    \n",
    "    return embddings_list\n",
    "\n",
    "def insert_embeddings(\n",
    "        name_tokenization: str, \n",
    "        name_index: str, \n",
    "        namespace: str,\n",
    "        embeding_function: Callable[[List[str]], List[float]],\n",
    "        model: str = \"all-MiniLM-L6-v2\",\n",
    "): \n",
    "    \"\"\"\n",
    "    Create namespace with the embeddings for pinecone, with all-MiniLM-L6-v2 transformer\n",
    "    Only search tokens for the thesis document\n",
    "    \"\"\"    \n",
    "\n",
    "    file_tokens_thesis = open(TOKENS_THESIS,\"r\",encoding=\"utf-8\")\n",
    "    tokens_thesis = json.load(file_tokens_thesis)\n",
    "    tokens_thesis = tokens_thesis[name_tokenization][\"values\"]\n",
    "    \n",
    "    \n",
    "    embddings_list = embeding_function(tokens_thesis,model)\n",
    "\n",
    "    indexes  = pc.list_indexes()\n",
    "    name_indixes = [index[\"name\"] for index  in indexes]\n",
    "    assert name_index in name_indixes, f\"don't exist {name_index} in pinecone\"\n",
    "\n",
    "    idx = pc.Index(name_index)\n",
    "    idx.upsert(embddings_list,namespace=namespace)\n",
    "\n",
    "    return idx\n",
    "\n"
   ]
  },
  {
   "cell_type": "code",
   "execution_count": null,
   "id": "9fb0a81e",
   "metadata": {},
   "outputs": [],
   "source": [
    "insert_embeddings(\n",
    "        name_tokenization = \"first_tokenization\",\n",
    "        name_index = \"tweens\",\n",
    "        namespace = \"first_tokenization_thesis\",\n",
    "        embeding_function = create_embeddings,\n",
    "        model = \"all-MiniLM-L6-v2\"\n",
    ")"
   ]
  },
  {
   "cell_type": "code",
   "execution_count": 62,
   "id": "723ab9f2",
   "metadata": {},
   "outputs": [
    {
     "data": {
      "text/plain": [
       "[{\n",
       "     \"name\": \"first_tokenization_thesis\",\n",
       "     \"record_count\": \"116\"\n",
       " }]"
      ]
     },
     "execution_count": 62,
     "metadata": {},
     "output_type": "execute_result"
    }
   ],
   "source": [
    "idx_tweens = pc.Index(\"tweens\")\n",
    "namespace_tweens = [namespace for namespace in idx_tweens.list_namespaces()]\n",
    "namespace_tweens"
   ]
  }
 ],
 "metadata": {
  "kernelspec": {
   "display_name": "env",
   "language": "python",
   "name": "python3"
  },
  "language_info": {
   "codemirror_mode": {
    "name": "ipython",
    "version": 3
   },
   "file_extension": ".py",
   "mimetype": "text/x-python",
   "name": "python",
   "nbconvert_exporter": "python",
   "pygments_lexer": "ipython3",
   "version": "3.12.3"
  }
 },
 "nbformat": 4,
 "nbformat_minor": 5
}
